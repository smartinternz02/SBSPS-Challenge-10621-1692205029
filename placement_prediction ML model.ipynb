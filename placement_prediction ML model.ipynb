{
 "cells": [
  {
   "cell_type": "code",
   "execution_count": 6,
   "id": "1b58c828",
   "metadata": {},
   "outputs": [],
   "source": [
    "import numpy as np\n",
    "import pandas as pd\n"
   ]
  },
  {
   "cell_type": "code",
   "execution_count": 7,
   "id": "2fe89d26",
   "metadata": {},
   "outputs": [
    {
     "data": {
      "text/html": [
       "<div>\n",
       "<style scoped>\n",
       "    .dataframe tbody tr th:only-of-type {\n",
       "        vertical-align: middle;\n",
       "    }\n",
       "\n",
       "    .dataframe tbody tr th {\n",
       "        vertical-align: top;\n",
       "    }\n",
       "\n",
       "    .dataframe thead th {\n",
       "        text-align: right;\n",
       "    }\n",
       "</style>\n",
       "<table border=\"1\" class=\"dataframe\">\n",
       "  <thead>\n",
       "    <tr style=\"text-align: right;\">\n",
       "      <th></th>\n",
       "      <th>StudentID</th>\n",
       "      <th>CGPA</th>\n",
       "      <th>Internships</th>\n",
       "      <th>Projects</th>\n",
       "      <th>Workshops/Certifications</th>\n",
       "      <th>AptitudeTestScore</th>\n",
       "      <th>SoftSkillsRating</th>\n",
       "      <th>ExtracurricularActivities</th>\n",
       "      <th>PlacementTraining</th>\n",
       "      <th>SSC_Marks</th>\n",
       "      <th>HSC_Marks</th>\n",
       "      <th>PlacementStatus</th>\n",
       "    </tr>\n",
       "  </thead>\n",
       "  <tbody>\n",
       "    <tr>\n",
       "      <th>0</th>\n",
       "      <td>1</td>\n",
       "      <td>7.5</td>\n",
       "      <td>1</td>\n",
       "      <td>1</td>\n",
       "      <td>1</td>\n",
       "      <td>65</td>\n",
       "      <td>4.4</td>\n",
       "      <td>No</td>\n",
       "      <td>No</td>\n",
       "      <td>61</td>\n",
       "      <td>79</td>\n",
       "      <td>NotPlaced</td>\n",
       "    </tr>\n",
       "    <tr>\n",
       "      <th>1</th>\n",
       "      <td>2</td>\n",
       "      <td>8.9</td>\n",
       "      <td>0</td>\n",
       "      <td>3</td>\n",
       "      <td>2</td>\n",
       "      <td>90</td>\n",
       "      <td>4.0</td>\n",
       "      <td>Yes</td>\n",
       "      <td>Yes</td>\n",
       "      <td>78</td>\n",
       "      <td>82</td>\n",
       "      <td>Placed</td>\n",
       "    </tr>\n",
       "    <tr>\n",
       "      <th>2</th>\n",
       "      <td>3</td>\n",
       "      <td>7.3</td>\n",
       "      <td>1</td>\n",
       "      <td>2</td>\n",
       "      <td>2</td>\n",
       "      <td>82</td>\n",
       "      <td>4.8</td>\n",
       "      <td>Yes</td>\n",
       "      <td>No</td>\n",
       "      <td>79</td>\n",
       "      <td>80</td>\n",
       "      <td>NotPlaced</td>\n",
       "    </tr>\n",
       "    <tr>\n",
       "      <th>3</th>\n",
       "      <td>4</td>\n",
       "      <td>7.5</td>\n",
       "      <td>1</td>\n",
       "      <td>1</td>\n",
       "      <td>2</td>\n",
       "      <td>85</td>\n",
       "      <td>4.4</td>\n",
       "      <td>Yes</td>\n",
       "      <td>Yes</td>\n",
       "      <td>81</td>\n",
       "      <td>80</td>\n",
       "      <td>Placed</td>\n",
       "    </tr>\n",
       "    <tr>\n",
       "      <th>4</th>\n",
       "      <td>5</td>\n",
       "      <td>8.3</td>\n",
       "      <td>1</td>\n",
       "      <td>2</td>\n",
       "      <td>2</td>\n",
       "      <td>86</td>\n",
       "      <td>4.5</td>\n",
       "      <td>Yes</td>\n",
       "      <td>Yes</td>\n",
       "      <td>74</td>\n",
       "      <td>88</td>\n",
       "      <td>Placed</td>\n",
       "    </tr>\n",
       "  </tbody>\n",
       "</table>\n",
       "</div>"
      ],
      "text/plain": [
       "   StudentID  CGPA  Internships  Projects  Workshops/Certifications  \\\n",
       "0          1   7.5            1         1                         1   \n",
       "1          2   8.9            0         3                         2   \n",
       "2          3   7.3            1         2                         2   \n",
       "3          4   7.5            1         1                         2   \n",
       "4          5   8.3            1         2                         2   \n",
       "\n",
       "   AptitudeTestScore  SoftSkillsRating ExtracurricularActivities  \\\n",
       "0                 65               4.4                        No   \n",
       "1                 90               4.0                       Yes   \n",
       "2                 82               4.8                       Yes   \n",
       "3                 85               4.4                       Yes   \n",
       "4                 86               4.5                       Yes   \n",
       "\n",
       "  PlacementTraining  SSC_Marks  HSC_Marks PlacementStatus  \n",
       "0                No         61         79       NotPlaced  \n",
       "1               Yes         78         82          Placed  \n",
       "2                No         79         80       NotPlaced  \n",
       "3               Yes         81         80          Placed  \n",
       "4               Yes         74         88          Placed  "
      ]
     },
     "execution_count": 7,
     "metadata": {},
     "output_type": "execute_result"
    }
   ],
   "source": [
    "placement_data = pd.read_csv(r\"C:\\Users\\HAI\\Downloads\\placedata v2.0 synthetic.csv\", index_col= False)\n",
    "placement_data.head()"
   ]
  },
  {
   "cell_type": "code",
   "execution_count": 8,
   "id": "e75203a6",
   "metadata": {},
   "outputs": [
    {
     "data": {
      "text/html": [
       "<div>\n",
       "<style scoped>\n",
       "    .dataframe tbody tr th:only-of-type {\n",
       "        vertical-align: middle;\n",
       "    }\n",
       "\n",
       "    .dataframe tbody tr th {\n",
       "        vertical-align: top;\n",
       "    }\n",
       "\n",
       "    .dataframe thead th {\n",
       "        text-align: right;\n",
       "    }\n",
       "</style>\n",
       "<table border=\"1\" class=\"dataframe\">\n",
       "  <thead>\n",
       "    <tr style=\"text-align: right;\">\n",
       "      <th></th>\n",
       "      <th>CGPA</th>\n",
       "      <th>Internships</th>\n",
       "      <th>Projects</th>\n",
       "      <th>Workshops/Certifications</th>\n",
       "      <th>AptitudeTestScore</th>\n",
       "      <th>SoftSkillsRating</th>\n",
       "      <th>ExtracurricularActivities</th>\n",
       "      <th>PlacementTraining</th>\n",
       "      <th>SSC_Marks</th>\n",
       "      <th>HSC_Marks</th>\n",
       "      <th>PlacementStatus</th>\n",
       "    </tr>\n",
       "  </thead>\n",
       "  <tbody>\n",
       "    <tr>\n",
       "      <th>0</th>\n",
       "      <td>7.5</td>\n",
       "      <td>1</td>\n",
       "      <td>1</td>\n",
       "      <td>1</td>\n",
       "      <td>65</td>\n",
       "      <td>4.4</td>\n",
       "      <td>No</td>\n",
       "      <td>No</td>\n",
       "      <td>61</td>\n",
       "      <td>79</td>\n",
       "      <td>NotPlaced</td>\n",
       "    </tr>\n",
       "    <tr>\n",
       "      <th>1</th>\n",
       "      <td>8.9</td>\n",
       "      <td>0</td>\n",
       "      <td>3</td>\n",
       "      <td>2</td>\n",
       "      <td>90</td>\n",
       "      <td>4.0</td>\n",
       "      <td>Yes</td>\n",
       "      <td>Yes</td>\n",
       "      <td>78</td>\n",
       "      <td>82</td>\n",
       "      <td>Placed</td>\n",
       "    </tr>\n",
       "    <tr>\n",
       "      <th>2</th>\n",
       "      <td>7.3</td>\n",
       "      <td>1</td>\n",
       "      <td>2</td>\n",
       "      <td>2</td>\n",
       "      <td>82</td>\n",
       "      <td>4.8</td>\n",
       "      <td>Yes</td>\n",
       "      <td>No</td>\n",
       "      <td>79</td>\n",
       "      <td>80</td>\n",
       "      <td>NotPlaced</td>\n",
       "    </tr>\n",
       "    <tr>\n",
       "      <th>3</th>\n",
       "      <td>7.5</td>\n",
       "      <td>1</td>\n",
       "      <td>1</td>\n",
       "      <td>2</td>\n",
       "      <td>85</td>\n",
       "      <td>4.4</td>\n",
       "      <td>Yes</td>\n",
       "      <td>Yes</td>\n",
       "      <td>81</td>\n",
       "      <td>80</td>\n",
       "      <td>Placed</td>\n",
       "    </tr>\n",
       "    <tr>\n",
       "      <th>4</th>\n",
       "      <td>8.3</td>\n",
       "      <td>1</td>\n",
       "      <td>2</td>\n",
       "      <td>2</td>\n",
       "      <td>86</td>\n",
       "      <td>4.5</td>\n",
       "      <td>Yes</td>\n",
       "      <td>Yes</td>\n",
       "      <td>74</td>\n",
       "      <td>88</td>\n",
       "      <td>Placed</td>\n",
       "    </tr>\n",
       "  </tbody>\n",
       "</table>\n",
       "</div>"
      ],
      "text/plain": [
       "   CGPA  Internships  Projects  Workshops/Certifications  AptitudeTestScore  \\\n",
       "0   7.5            1         1                         1                 65   \n",
       "1   8.9            0         3                         2                 90   \n",
       "2   7.3            1         2                         2                 82   \n",
       "3   7.5            1         1                         2                 85   \n",
       "4   8.3            1         2                         2                 86   \n",
       "\n",
       "   SoftSkillsRating ExtracurricularActivities PlacementTraining  SSC_Marks  \\\n",
       "0               4.4                        No                No         61   \n",
       "1               4.0                       Yes               Yes         78   \n",
       "2               4.8                       Yes                No         79   \n",
       "3               4.4                       Yes               Yes         81   \n",
       "4               4.5                       Yes               Yes         74   \n",
       "\n",
       "   HSC_Marks PlacementStatus  \n",
       "0         79       NotPlaced  \n",
       "1         82          Placed  \n",
       "2         80       NotPlaced  \n",
       "3         80          Placed  \n",
       "4         88          Placed  "
      ]
     },
     "execution_count": 8,
     "metadata": {},
     "output_type": "execute_result"
    }
   ],
   "source": [
    "# DROPING THE COLUMN THAT NOT REQUIRED FOR TRAINING MODEL\n",
    "placement_data = placement_data.drop('StudentID',axis = 1)\n",
    "placement_data.head()"
   ]
  },
  {
   "cell_type": "code",
   "execution_count": 9,
   "id": "cd65c25e",
   "metadata": {},
   "outputs": [],
   "source": [
    "# defining feature and target\n",
    "\n",
    "y = placement_data.PlacementStatus\n",
    "# X = train_set\n",
    "X = placement_data.drop(['PlacementStatus'],axis = 1)"
   ]
  },
  {
   "cell_type": "code",
   "execution_count": 10,
   "id": "96249514",
   "metadata": {},
   "outputs": [],
   "source": [
    "# preprocessing categorical data into 0's and 1's\n",
    "\n",
    "X['ExtracurricularActivities'] = X['ExtracurricularActivities'].str.strip().replace({'Yes': 1, 'No': 0})\n",
    "X['PlacementTraining'] = X['PlacementTraining'].str.strip().replace({'Yes': 1, 'No': 0})\n",
    "y = y.str.strip().replace({'Placed': 1, 'NotPlaced': 0})"
   ]
  },
  {
   "cell_type": "code",
   "execution_count": 11,
   "id": "abd36039",
   "metadata": {},
   "outputs": [],
   "source": [
    "# splitting the data into training and validation sets \n",
    "\n",
    "from sklearn.model_selection import train_test_split\n",
    "X_train,X_val,y_train,y_val = train_test_split(X,y,test_size = 0.2,random_state = 1)"
   ]
  },
  {
   "cell_type": "code",
   "execution_count": 12,
   "id": "4139864b",
   "metadata": {},
   "outputs": [
    {
     "name": "stderr",
     "output_type": "stream",
     "text": [
      "C:\\Users\\HAI\\anaconda3\\envs\\tf\\lib\\site-packages\\xgboost\\sklearn.py:1224: UserWarning: The use of label encoder in XGBClassifier is deprecated and will be removed in a future release. To remove this warning, do the following: 1) Pass option use_label_encoder=False when constructing XGBClassifier object; and 2) Encode your labels (y) as integers starting with 0, i.e. 0, 1, 2, ..., [num_class - 1].\n",
      "  warnings.warn(label_encoder_deprecation_msg, UserWarning)\n"
     ]
    },
    {
     "name": "stdout",
     "output_type": "stream",
     "text": [
      "0.7913749999999999\n"
     ]
    }
   ],
   "source": [
    "# making pipelines for preprocessing \n",
    "from sklearn.pipeline import Pipeline\n",
    "from sklearn.impute import SimpleImputer\n",
    "\n",
    "# model pipeline\n",
    "from xgboost import XGBClassifier\n",
    "\n",
    "p1 = Pipeline(steps = [('prep',SimpleImputer(strategy= 'mean')),('xgbc',XGBClassifier(n_estimators = 1000,learning_rate = 0.005,objective=\"binary:logistic\", eval_metric=\"logloss\",random_state = 1))])\n",
    "p1.fit(X_train,y_train)\n",
    "\n",
    "from sklearn.model_selection import cross_val_score\n",
    "\n",
    "score = cross_val_score(p1 ,X_train,y_train,cv = 4,scoring = 'accuracy',n_jobs = 4)\n",
    "print(score.mean())"
   ]
  },
  {
   "cell_type": "code",
   "execution_count": 14,
   "id": "58b30c0d",
   "metadata": {},
   "outputs": [],
   "source": [
    "preds = p1.predict(X_val)"
   ]
  },
  {
   "cell_type": "code",
   "execution_count": 15,
   "id": "884a3fa9",
   "metadata": {},
   "outputs": [
    {
     "data": {
      "text/plain": [
       "0.8115"
      ]
     },
     "execution_count": 15,
     "metadata": {},
     "output_type": "execute_result"
    }
   ],
   "source": [
    "from sklearn.metrics import accuracy_score\n",
    "acc = accuracy_score(y_val,preds)\n",
    "acc\n"
   ]
  },
  {
   "cell_type": "code",
   "execution_count": 16,
   "id": "8d5667ee",
   "metadata": {},
   "outputs": [],
   "source": [
    "confusion_matrix = pd.crosstab(y_val,preds)"
   ]
  },
  {
   "cell_type": "code",
   "execution_count": 17,
   "id": "d18741d3",
   "metadata": {},
   "outputs": [
    {
     "data": {
      "text/html": [
       "<div>\n",
       "<style scoped>\n",
       "    .dataframe tbody tr th:only-of-type {\n",
       "        vertical-align: middle;\n",
       "    }\n",
       "\n",
       "    .dataframe tbody tr th {\n",
       "        vertical-align: top;\n",
       "    }\n",
       "\n",
       "    .dataframe thead th {\n",
       "        text-align: right;\n",
       "    }\n",
       "</style>\n",
       "<table border=\"1\" class=\"dataframe\">\n",
       "  <thead>\n",
       "    <tr style=\"text-align: right;\">\n",
       "      <th>col_0</th>\n",
       "      <th>0</th>\n",
       "      <th>1</th>\n",
       "    </tr>\n",
       "    <tr>\n",
       "      <th>PlacementStatus</th>\n",
       "      <th></th>\n",
       "      <th></th>\n",
       "    </tr>\n",
       "  </thead>\n",
       "  <tbody>\n",
       "    <tr>\n",
       "      <th>0</th>\n",
       "      <td>1008</td>\n",
       "      <td>184</td>\n",
       "    </tr>\n",
       "    <tr>\n",
       "      <th>1</th>\n",
       "      <td>193</td>\n",
       "      <td>615</td>\n",
       "    </tr>\n",
       "  </tbody>\n",
       "</table>\n",
       "</div>"
      ],
      "text/plain": [
       "col_0               0    1\n",
       "PlacementStatus           \n",
       "0                1008  184\n",
       "1                 193  615"
      ]
     },
     "execution_count": 17,
     "metadata": {},
     "output_type": "execute_result"
    }
   ],
   "source": [
    "confusion_matrix"
   ]
  },
  {
   "cell_type": "code",
   "execution_count": 65,
   "id": "a9328163",
   "metadata": {},
   "outputs": [],
   "source": [
    "#save as pickle\n",
    "import pickle\n",
    "pickle.dump(p1, open(\"placement_model_v1.pkl\", \"wb\"))"
   ]
  }
 ],
 "metadata": {
  "kernelspec": {
   "display_name": "tf",
   "language": "python",
   "name": "tf"
  },
  "language_info": {
   "codemirror_mode": {
    "name": "ipython",
    "version": 3
   },
   "file_extension": ".py",
   "mimetype": "text/x-python",
   "name": "python",
   "nbconvert_exporter": "python",
   "pygments_lexer": "ipython3",
   "version": "3.7.12"
  }
 },
 "nbformat": 4,
 "nbformat_minor": 5
}
